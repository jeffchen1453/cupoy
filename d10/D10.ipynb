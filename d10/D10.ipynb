{
 "cells": [
  {
   "cell_type": "markdown",
   "metadata": {},
   "source": [
    "# Day 10 - Cupoy Test 的mongo 運行程序\n",
    "* 在 docker 安裝 mongodb"
   ]
  },
  {
   "cell_type": "markdown",
   "metadata": {},
   "source": [
    "$sudo docker pull mongo:latest"
   ]
  },
  {
   "cell_type": "markdown",
   "metadata": {},
   "source": [
    "$sudo docker image"
   ]
  },
  {
   "cell_type": "markdown",
   "metadata": {},
   "source": [
    "使用以下命令來運行 mongo 容器：\n",
    "參數說明： \n",
    "* (1)-p 27017:27017 ：映射容器服務的 27017 埠到宿主機的 27017 埠。\n",
    "外部可以直接通過主機 ip:27017 訪問到 mongo 的服務。 \n",
    "* (2)--auth：需要密碼才能訪問容器服務。 #確認執行的Docker 程式\n"
   ]
  },
  {
   "cell_type": "markdown",
   "metadata": {},
   "source": [
    "\n",
    " $docker run -itd --name mongo -p 27017:27017 mongo --auth"
   ]
  },
  {
   "cell_type": "markdown",
   "metadata": {},
   "source": [
    "$docker ps"
   ]
  },
  {
   "cell_type": "markdown",
   "metadata": {},
   "source": [
    "![](https://raw.githubusercontent.com/yaws508/cupoy/main/d10/d10-00.png)"
   ]
  },
  {
   "cell_type": "markdown",
   "metadata": {},
   "source": [
    "$ docker exec -it mongo mongo admin"
   ]
  },
  {
   "cell_type": "markdown",
   "metadata": {},
   "source": [
    " 創建一個名為 admin，密碼為 secret 的用戶。\n",
    " 嘗試使用上面創建的使用者資訊進行連接。\n"
   ]
  },
  {
   "cell_type": "markdown",
   "metadata": {},
   "source": [
    "```\n",
    ">db.createUser({ user:‘admin’,pwd:‘secret‘, roles:[ { role:'root', db: 'admin’}, \"readWriteAnyDatabase\"]});\n",
    ">db.auth('admin', 'secret')    \n",
    "```"
   ]
  },
  {
   "cell_type": "markdown",
   "metadata": {},
   "source": [
    "![](https://raw.githubusercontent.com/yaws508/cupoy/main/d10/d10-02.png)"
   ]
  },
  {
   "cell_type": "markdown",
   "metadata": {},
   "source": [
    " docker exec -it mongo4 bash"
   ]
  },
  {
   "cell_type": "markdown",
   "metadata": {},
   "source": [
    "vim /etc/mongod.conf.orig\n"
   ]
  },
  {
   "cell_type": "markdown",
   "metadata": {},
   "source": [
    "進入 admin 的資料庫\n",
    "use admin"
   ]
  },
  {
   "cell_type": "markdown",
   "metadata": {},
   "source": [
    "創建管理員用戶\n",
    "db.createUser( { user: \"admin\", pwd: \"123456\", roles: [ { role: \"userAdminAnyDatabase\", db: \"admin\" } ] } )"
   ]
  },
  {
   "cell_type": "markdown",
   "metadata": {},
   "source": [
    "創建有可讀寫許可權的用戶. 對於一個特定的資料庫, 比如'demo’ db.createUser({ user: 'test’, pwd: '123456’, roles: [{role: \"read\", db: \"demo\"}] })"
   ]
  },
  {
   "cell_type": "markdown",
   "metadata": {},
   "source": [
    "![](https://raw.githubusercontent.com/yaws508/cupoy/main/d10/d10-04.png)\n"
   ]
  },
  {
   "cell_type": "markdown",
   "metadata": {},
   "source": [
    "![](https://raw.githubusercontent.com/yaws508/cupoy/main/d10/d10-05.png)"
   ]
  },
  {
   "cell_type": "markdown",
   "metadata": {},
   "source": [
    "```\n",
    "\n",
    "\n",
    "Dockfile\n",
    "#MongoDB Dockerfile #https://github.com/dockerfile/mongodb\n",
    "\n",
    "#Pull base image. FROM dockerfile/ubuntu\n",
    "\n",
    "#Install MongoDB. RUN\n",
    "apt-key adv --keyserver hkp://keyserver.ubuntu.com:80 --recv 7F0CEB10 &&\n",
    "echo 'deb http://downloads-distro.mongodb.org/repo/ubuntu-upstart dist 10gen' > /etc/apt/sources.list.d/mongodb.list &&\n",
    "apt-get update &&\n",
    "apt-get install -y mongodb-org &&\n",
    "rm -rf /var/lib/apt/lists/*\n",
    "\n",
    "#Define mountable directories. VOLUME [\"/data/db\"]\n",
    "\n",
    "#Define working directory. WORKDIR /data\n",
    "\n",
    "#Define default command. CMD [\"mongod\"]\n",
    "\n",
    "#Expose ports. #- 27017: process #- 28017: http EXPOSE 27017 EXPOSE 28017\n",
    "\n",
    "Usage Reference\n",
    "#Run mongod\n",
    "\n",
    "docker run -d -p 27017:27017 --name mongodb dockerfile/mongodb\n",
    "\n",
    "#Run mongod w/ persistent/shared directory\n",
    "\n",
    "docker run -d -p 27017:27017 -v :/data/db --name mongodb dockerfile/mongodb\n",
    "\n",
    "#Run mongod w/ HTTP support\n",
    "\n",
    "docker run -d -p 27017:27017 -p 28017:28017 --name mongodb dockerfile/mongodb mongod --rest --httpinterface\n",
    "#Run mongod w/ Smaller default file size\n",
    "\n",
    "docker run -d -p 27017:27017 --name mongodb dockerfile/mongodb mongod --smallfiles\n",
    "#Run mongo\n",
    "\n",
    "docker run -it --rm --link mongodb:mongodb dockerfile/mongodb bash -c 'mongo --host mongodb'\n",
    "#Usage with VirtualBox (boot2docker-vm)\n",
    "\n",
    "You will need to set up nat port forwarding with:\n",
    "VBoxManage\n",
    "\n",
    "modifyvm \"boot2docker-vm\" --natpf1 \"guestmongodb,tcp,127.0.0.1,27017,,27017\"\n",
    "This will allow you to connect to your mongo container with the standard mongo commands.\n",
    "\n",
    "1\n",
    "​\n",
    "```"
   ]
  },
  {
   "cell_type": "code",
   "execution_count": null,
   "metadata": {},
   "outputs": [],
   "source": []
  }
 ],
 "metadata": {
  "kernelspec": {
   "display_name": "Python 3",
   "language": "python",
   "name": "python3"
  },
  "language_info": {
   "codemirror_mode": {
    "name": "ipython",
    "version": 3
   },
   "file_extension": ".py",
   "mimetype": "text/x-python",
   "name": "python",
   "nbconvert_exporter": "python",
   "pygments_lexer": "ipython3",
   "version": "3.7.6"
  }
 },
 "nbformat": 4,
 "nbformat_minor": 4
}
