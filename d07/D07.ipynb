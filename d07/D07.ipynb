{
 "cells": [
  {
   "cell_type": "markdown",
   "metadata": {},
   "source": [
    "#  D07.MongoDB 大數據資料庫安裝實作\n"
   ]
  },
  {
   "cell_type": "markdown",
   "metadata": {},
   "source": [
    "# [作業重點]\n",
    "* 了解 DB、Collection、Document 在 Mongo 中所代表的意義。\n",
    "* 能夠手動對資料做增刪改查的操作。"
   ]
  },
  {
   "cell_type": "markdown",
   "metadata": {},
   "source": [
    "# [作業1]¶\n",
    "至以下網站下載 MongoDB 和 Robo 3T 工具，並成功運行。\n",
    "Mongo: https://www.mongodb.com/try/download/community\n",
    "\n",
    "Robo 3T: https://robomongo.org/"
   ]
  },
  {
   "cell_type": "markdown",
   "metadata": {},
   "source": [
    "![](https://raw.githubusercontent.com/yaws508/cupoy/main/d07/d07-01.png)\n",
    "![](https://raw.githubusercontent.com/yaws508/cupoy/main/d07/d07-02.png)\n",
    "![](https://raw.githubusercontent.com/yaws508/cupoy/main/d07/d07-03.png)\n",
    "![](https://raw.githubusercontent.com/yaws508/cupoy/main/d07/d07-031.png)\n",
    "![](https://raw.githubusercontent.com/yaws508/cupoy/main/d07/d07-04.png)\n",
    "![](https://raw.githubusercontent.com/yaws508/cupoy/main/d07/d07-05.png)\n",
    "![](https://raw.githubusercontent.com/yaws508/cupoy/main/d07/d07-06.png)\n",
    "![](https://raw.githubusercontent.com/yaws508/cupoy/main/d07/d07-07.png)\n",
    "![](https://raw.githubusercontent.com/yaws508/cupoy/main/d07/d07-08.png)\n"
   ]
  },
  {
   "cell_type": "markdown",
   "metadata": {},
   "source": [
    "# [作業2]\n",
    "分別使用命令提示工具、Robo 3T圖形介面工具，照以下步驟操作資料。\n",
    "新增一個 DB 名稱自訂。\n",
    "在該 DB 中新增一個 Collection 名稱為 Member\n",
    "在 Collection 中新增一筆會員資料，資料結構如下：\n",
    "name : Kevin\n",
    "email : test@abc.com\n",
    "phone: 0912345678\n",
    "將上述那筆資料的 name 欄位改成 Cathy\n",
    "加入新的欄位 age 到上述那筆資料中，並將值的部分設為 25"
   ]
  },
  {
   "cell_type": "code",
   "execution_count": null,
   "metadata": {},
   "outputs": [],
   "source": []
  },
  {
   "cell_type": "markdown",
   "metadata": {},
   "source": [
    "![](https://raw.githubusercontent.com/yaws508/cupoy/main/d07/d07-09.png)\n",
    "![](https://raw.githubusercontent.com/yaws508/cupoy/main/d07/d07-10.png)\n",
    "\n"
   ]
  },
  {
   "cell_type": "markdown",
   "metadata": {},
   "source": [
    "use test\n",
    "db.member.insert({name:\"Kevin\",email:\"test@abc.com\",phone:\"0912345678\"})\n",
    "db.member.update({'name':\"Kevin\"},{$set:{age:25}})\n",
    "db.member.update({'name':\"Kevin\"},{$set:{name:\"Cathy\"}})\n",
    "db.member.update({'name':\"Cathy\"},{$set:{name:\"Kevin\"}})\n",
    "db.member.find().pretty()\n",
    "db.member.update({\"name\":\"Kevin\" },{ $set : { age :25} })"
   ]
  },
  {
   "cell_type": "markdown",
   "metadata": {},
   "source": [
    "![](https://raw.githubusercontent.com/yaws508/cupoy/main/d07/d07-11.png)\n",
    "\n",
    "\n",
    "![](https://raw.githubusercontent.com/yaws508/cupoy/main/d07/d07-14.png)\n",
    "![](https://raw.githubusercontent.com/yaws508/cupoy/main/d07/d07-15.png)"
   ]
  },
  {
   "cell_type": "code",
   "execution_count": null,
   "metadata": {},
   "outputs": [],
   "source": []
  }
 ],
 "metadata": {
  "kernelspec": {
   "display_name": "Python 3",
   "language": "python",
   "name": "python3"
  },
  "language_info": {
   "codemirror_mode": {
    "name": "ipython",
    "version": 3
   },
   "file_extension": ".py",
   "mimetype": "text/x-python",
   "name": "python",
   "nbconvert_exporter": "python",
   "pygments_lexer": "ipython3",
   "version": "3.7.6"
  }
 },
 "nbformat": 4,
 "nbformat_minor": 4
}
