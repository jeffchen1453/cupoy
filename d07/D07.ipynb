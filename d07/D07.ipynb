{
 "cells": [
  {
   "cell_type": "markdown",
   "metadata": {},
   "source": [
    "#  D07.MongoDB 大數據資料庫安裝實作"
   ]
  },
  {
   "cell_type": "markdown",
   "metadata": {},
   "source": [
    "![](https://raw.githubusercontent.com/yaws508/cupoy/main/d07/d07-01.png)\n",
    "![](https://raw.githubusercontent.com/yaws508/cupoy/main/d07/d07-02.png)\n",
    "![](https://raw.githubusercontent.com/yaws508/cupoy/main/d07/d07-03.png)\n",
    "![](https://raw.githubusercontent.com/yaws508/cupoy/main/d07/d07-031.png)\n",
    "![](https://raw.githubusercontent.com/yaws508/cupoy/main/d07/d07-04.png)\n",
    "![](https://raw.githubusercontent.com/yaws508/cupoy/main/d07/d07-05.png)\n",
    "![](https://raw.githubusercontent.com/yaws508/cupoy/main/d07/d07-06.png)\n",
    "![](https://raw.githubusercontent.com/yaws508/cupoy/main/d07/d07-07.png)\n",
    "![](https://raw.githubusercontent.com/yaws508/cupoy/main/d07/d07-08.png)\n",
    "![](https://raw.githubusercontent.com/yaws508/cupoy/main/d07/d07-09.png)\n",
    "![](https://raw.githubusercontent.com/yaws508/cupoy/main/d07/d07-10.png)\n",
    "![](https://raw.githubusercontent.com/yaws508/cupoy/main/d07/d07-11.png)\n",
    "![](https://raw.githubusercontent.com/yaws508/cupoy/main/d07/d07-12.png)\n",
    "![](https://raw.githubusercontent.com/yaws508/cupoy/main/d07/d07-13.png)\n",
    "![](https://raw.githubusercontent.com/yaws508/cupoy/main/d07/d07-14.png)\n",
    "![](https://raw.githubusercontent.com/yaws508/cupoy/main/d07/d07-15.png)"
   ]
  },
  {
   "cell_type": "markdown",
   "metadata": {},
   "source": [
    "![](d07-2.png)"
   ]
  },
  {
   "cell_type": "code",
   "execution_count": null,
   "metadata": {},
   "outputs": [],
   "source": []
  }
 ],
 "metadata": {
  "kernelspec": {
   "display_name": "Python 3",
   "language": "python",
   "name": "python3"
  },
  "language_info": {
   "codemirror_mode": {
    "name": "ipython",
    "version": 3
   },
   "file_extension": ".py",
   "mimetype": "text/x-python",
   "name": "python",
   "nbconvert_exporter": "python",
   "pygments_lexer": "ipython3",
   "version": "3.7.6"
  }
 },
 "nbformat": 4,
 "nbformat_minor": 4
}
