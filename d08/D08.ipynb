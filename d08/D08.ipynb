{
 "cells": [
  {
   "cell_type": "code",
   "execution_count": null,
   "metadata": {},
   "outputs": [],
   "source": []
  },
  {
   "cell_type": "markdown",
   "metadata": {},
   "source": [
    "# 作業1\n",
    "* 建立 DB 及 Collection (名稱自訂)，使用 Python 取得連線。"
   ]
  },
  {
   "cell_type": "markdown",
   "metadata": {},
   "source": [
    "# 作業2\n",
    "* 使用 Python 操作 Mongo 中的資料。"
   ]
  },
  {
   "cell_type": "code",
   "execution_count": 67,
   "metadata": {},
   "outputs": [],
   "source": [
    "# Connect the mongo server\n",
    "from pymongo import MongoClient\n",
    "client = MongoClient(host='127.0.0.1', port=27017)\n"
   ]
  },
  {
   "cell_type": "code",
   "execution_count": 89,
   "metadata": {},
   "outputs": [],
   "source": [
    "#use or create db  and  select collections\n",
    "db = client[\"demodb\"]\n",
    "collections = db[\"table1\"]\n"
   ]
  },
  {
   "cell_type": "code",
   "execution_count": 90,
   "metadata": {},
   "outputs": [
    {
     "name": "stdout",
     "output_type": "stream",
     "text": [
      "[ObjectId('5fd7847d276752326c79976a'), ObjectId('5fd7847d276752326c79976b'), ObjectId('5fd7847d276752326c79976c')]\n"
     ]
    }
   ],
   "source": [
    "#insert \n",
    "mydata_list = [{\"name\" : \"Kevin\", \"email\" : \"test@abc.com\", \"phone\": \"0912345671\"}, {\"name\" : \"Cathy\", \"email\" : \"test2@abc.com\", \"phone\": \"0912345672\"}, {\"name\" : \"David\", \"email\" : \"test3@abc.com\", \"phone\": \"0912345673\"}]\n",
    "result = collections.insert_many(mydata_list)\n",
    "print(result.inserted_ids)\n"
   ]
  },
  {
   "cell_type": "code",
   "execution_count": 91,
   "metadata": {},
   "outputs": [
    {
     "data": {
      "text/plain": [
       "18"
      ]
     },
     "execution_count": 91,
     "metadata": {},
     "output_type": "execute_result"
    }
   ],
   "source": [
    "collection.count_documents({})"
   ]
  },
  {
   "cell_type": "code",
   "execution_count": 92,
   "metadata": {},
   "outputs": [
    {
     "name": "stdout",
     "output_type": "stream",
     "text": [
      "5fd7847e276752326c79976d\n"
     ]
    }
   ],
   "source": [
    "# My data\n",
    "my_data = {\"name\": \"Jason\", \"phone\": '0917381313', \"mail\": 'jason@gmail.com'}\n",
    "result = collection.insert_one(my_data)\n",
    "print(result.inserted_id)"
   ]
  },
  {
   "cell_type": "code",
   "execution_count": 93,
   "metadata": {},
   "outputs": [
    {
     "data": {
      "text/plain": [
       "19"
      ]
     },
     "execution_count": 93,
     "metadata": {},
     "output_type": "execute_result"
    }
   ],
   "source": [
    "collection.count_documents({})"
   ]
  },
  {
   "cell_type": "code",
   "execution_count": 94,
   "metadata": {},
   "outputs": [
    {
     "name": "stdout",
     "output_type": "stream",
     "text": [
      "{'_id': ObjectId('5fd77ba8276752326c799759'), 'name': 'Kevin', 'email': 'test@abc.com', 'phone': '0912345678'}\n",
      "{'_id': ObjectId('5fd77ba8276752326c79975a'), 'name': 'Deven', 'email': 'test@abc.com', 'phone': '0912345678'}\n",
      "{'_id': ObjectId('5fd77ba8276752326c79975b'), 'name': 'Jay', 'email': 'test@abc.com', 'phone': '0912345678'}\n",
      "{'_id': ObjectId('5fd77bd3276752326c79975d'), 'name': 'Jason', 'phone': '0917381313', 'mail': 'jason@gmail.com'}\n",
      "{'_id': ObjectId('5fd7812c276752326c79975f'), 'name': 'Kevin', 'email': 'test@abc.com', 'phone': '0912345678'}\n",
      "{'_id': ObjectId('5fd7812c276752326c799760'), 'name': 'Deven', 'email': 'test@abc.com', 'phone': '0912345678'}\n",
      "{'_id': ObjectId('5fd7812c276752326c799761'), 'name': 'Jay', 'email': 'test@abc.com', 'phone': '0912345678'}\n",
      "{'_id': ObjectId('5fd781af276752326c799762'), 'name': 'Kevin', 'email': 'test@abc.com', 'phone': '0912345671'}\n",
      "{'_id': ObjectId('5fd781af276752326c799763'), 'name': 'Cathy', 'email': 'test2@abc.com', 'phone': '0912345672'}\n",
      "{'_id': ObjectId('5fd781af276752326c799764'), 'name': 'David', 'email': 'test3@abc.com', 'phone': '0912345673'}\n",
      "{'_id': ObjectId('5fd7822e276752326c799765'), 'name': 'Jason', 'phone': '0917381313', 'mail': 'jason@gmail.com'}\n",
      "{'_id': ObjectId('5fd78322276752326c799766'), 'name': 'Jason', 'phone': '0917381313', 'mail': 'jason@gmail.com'}\n",
      "{'_id': ObjectId('5fd78325276752326c799767'), 'name': 'Jason', 'phone': '0917381313', 'mail': 'jason@gmail.com'}\n",
      "{'_id': ObjectId('5fd78338276752326c799768'), 'name': 'Jason', 'phone': '0917381313', 'mail': 'jason@gmail.com'}\n",
      "{'_id': ObjectId('5fd78359276752326c799769'), 'name': 'Jason', 'phone': '0917381313', 'mail': 'jason@gmail.com'}\n",
      "{'_id': ObjectId('5fd7847d276752326c79976a'), 'name': 'Kevin', 'email': 'test@abc.com', 'phone': '0912345671'}\n",
      "{'_id': ObjectId('5fd7847d276752326c79976b'), 'name': 'Cathy', 'email': 'test2@abc.com', 'phone': '0912345672'}\n",
      "{'_id': ObjectId('5fd7847d276752326c79976c'), 'name': 'David', 'email': 'test3@abc.com', 'phone': '0912345673'}\n",
      "{'_id': ObjectId('5fd7847e276752326c79976d'), 'name': 'Jason', 'phone': '0917381313', 'mail': 'jason@gmail.com'}\n"
     ]
    }
   ],
   "source": [
    "for x in collection.find():\n",
    "  print(x)"
   ]
  },
  {
   "cell_type": "code",
   "execution_count": 100,
   "metadata": {},
   "outputs": [
    {
     "data": {
      "text/plain": [
       "19"
      ]
     },
     "execution_count": 100,
     "metadata": {},
     "output_type": "execute_result"
    }
   ],
   "source": [
    "collection = db[\"table1\"]\n",
    "collection.count_documents({})"
   ]
  },
  {
   "cell_type": "code",
   "execution_count": 101,
   "metadata": {},
   "outputs": [
    {
     "data": {
      "text/plain": [
       "['Member',\n",
       " 'admin',\n",
       " 'config',\n",
       " 'demodb',\n",
       " 'iot',\n",
       " 'local',\n",
       " 'mydatabase',\n",
       " 'newdb',\n",
       " 'test']"
      ]
     },
     "execution_count": 101,
     "metadata": {},
     "output_type": "execute_result"
    }
   ],
   "source": [
    "dblist = client.list_database_names()\n",
    "dblist"
   ]
  },
  {
   "cell_type": "code",
   "execution_count": 105,
   "metadata": {},
   "outputs": [
    {
     "data": {
      "text/plain": [
       "['test', 'table', 'table1']"
      ]
     },
     "execution_count": 105,
     "metadata": {},
     "output_type": "execute_result"
    }
   ],
   "source": [
    "mydb = client[\"demodb\"]\n",
    "collist = mydb. list_collection_names()\n",
    "collist\n"
   ]
  },
  {
   "cell_type": "code",
   "execution_count": 106,
   "metadata": {},
   "outputs": [
    {
     "name": "stdout",
     "output_type": "stream",
     "text": [
      "[ObjectId('5fd78685276752326c799773'), ObjectId('5fd78685276752326c799774'), ObjectId('5fd78685276752326c799775')]\n"
     ]
    }
   ],
   "source": [
    "from pymongo import MongoClient\n",
    "client = MongoClient(host='localhost', port=27017)\n",
    "db = client[\"mydatabase\"]\n",
    "collections = db[\"test\"]\n",
    "mydata_list = [{\"name\" : \"Kevin\", \"email\" : \"test@abc.com\", \"phone\": \"0912345678\"}, {\"name\" : \"Deven\", \"email\" : \"test@abc.com\", \"phone\": \"0912345678\"}, {\"name\" : \"Jay\", \"email\" : \"test@abc.com\", \"phone\": \"0912345678\"}]\n",
    "result = collections.insert_many(mydata_list)\n",
    "print(result.inserted_ids)"
   ]
  },
  {
   "cell_type": "code",
   "execution_count": 110,
   "metadata": {},
   "outputs": [],
   "source": [
    "db = client[\"demo\"]\n",
    "db. list_collection_names()\n",
    "collection = db[\"students\"]"
   ]
  },
  {
   "cell_type": "code",
   "execution_count": 115,
   "metadata": {},
   "outputs": [
    {
     "name": "stdout",
     "output_type": "stream",
     "text": [
      "{'_id': ObjectId('5fd78774276752326c799776'), 'id': 1, 'name': 'Binod Suman', 'country': 'IN'}\n"
     ]
    }
   ],
   "source": [
    "collection.insert_one({\"id\":1,\"name\":\"Binod Suman\",\"country\":\"IN\"})\n"
   ]
  },
  {
   "cell_type": "code",
   "execution_count": 117,
   "metadata": {},
   "outputs": [
    {
     "data": {
      "text/plain": [
       "1"
      ]
     },
     "execution_count": 117,
     "metadata": {},
     "output_type": "execute_result"
    }
   ],
   "source": [
    "collection.count_documents({})"
   ]
  },
  {
   "cell_type": "code",
   "execution_count": 118,
   "metadata": {},
   "outputs": [
    {
     "data": {
      "text/plain": [
       "{'_id': ObjectId('5fd78774276752326c799776'),\n",
       " 'id': 1,\n",
       " 'name': 'Binod Suman',\n",
       " 'country': 'IN'}"
      ]
     },
     "execution_count": 118,
     "metadata": {},
     "output_type": "execute_result"
    }
   ],
   "source": [
    "collection.find_one()"
   ]
  },
  {
   "cell_type": "code",
   "execution_count": 119,
   "metadata": {},
   "outputs": [
    {
     "data": {
      "text/plain": [
       "8"
      ]
     },
     "execution_count": 119,
     "metadata": {},
     "output_type": "execute_result"
    }
   ],
   "source": [
    "studentlist = [\n",
    "  { \"id\":1,\"name\":\"Binod Suman\",\"country\":\"IN\"},\n",
    "  { \"id\":2,\"name\":\"Bill Gates\",\"country\":\"US\"},\n",
    "  { \"id\":3,\"name\":\"Steve Jobs\",\"country\":\"US\"},\n",
    "  { \"id\":4,\"name\":\"Narayan Murthy\",\"country\":\"IN\"},\n",
    "  { \"id\":5,\"name\":\"Azim Premji\",\"country\":\"IN\"},\n",
    "  { \"id\":6,\"name\":\"Nandan Nilekani\",\"country\":\"IN\"},\n",
    "  { \"id\":7,\"name\":\"sundar pichai\",\"country\":\"IN\"}\n",
    "]\n",
    "collection.insert_many(studentlist)\n",
    "\n",
    "collection.count_documents({})"
   ]
  },
  {
   "cell_type": "code",
   "execution_count": 122,
   "metadata": {},
   "outputs": [
    {
     "name": "stdout",
     "output_type": "stream",
     "text": [
      "{'_id': ObjectId('5fd78774276752326c799776'), 'id': 1, 'name': 'Binod Suman', 'country': 'IN'}\n",
      "{'_id': ObjectId('5fd787ed276752326c799777'), 'id': 1, 'name': 'Binod Suman', 'country': 'IN'}\n",
      "{'_id': ObjectId('5fd787ed276752326c799778'), 'id': 2, 'name': 'Bill Gates', 'country': 'US'}\n",
      "{'_id': ObjectId('5fd787ed276752326c799779'), 'id': 3, 'name': 'Steve Jobs', 'country': 'US'}\n",
      "{'_id': ObjectId('5fd787ed276752326c79977a'), 'id': 4, 'name': 'Narayan Murthy', 'country': 'IN'}\n",
      "{'_id': ObjectId('5fd787ed276752326c79977b'), 'id': 5, 'name': 'Azim Premji', 'country': 'IN'}\n",
      "{'_id': ObjectId('5fd787ed276752326c79977c'), 'id': 6, 'name': 'Nandan Nilekani', 'country': 'IN'}\n",
      "{'_id': ObjectId('5fd787ed276752326c79977d'), 'id': 7, 'name': 'sundar pichai', 'country': 'IN'}\n"
     ]
    }
   ],
   "source": [
    "# Display all records\n",
    "for x in collection.find():\n",
    "  print(x)"
   ]
  },
  {
   "cell_type": "code",
   "execution_count": 123,
   "metadata": {},
   "outputs": [
    {
     "name": "stdout",
     "output_type": "stream",
     "text": [
      "{'_id': ObjectId('5fd78774276752326c799776'), 'id': 1, 'name': 'Binod Suman', 'country': 'IN'}\n",
      "{'_id': ObjectId('5fd787ed276752326c799777'), 'id': 1, 'name': 'Binod Suman', 'country': 'IN'}\n"
     ]
    }
   ],
   "source": [
    "# Display limited documents\n",
    "for student in collection.find().limit(2):\n",
    "  print(student)"
   ]
  },
  {
   "cell_type": "code",
   "execution_count": 124,
   "metadata": {},
   "outputs": [
    {
     "name": "stdout",
     "output_type": "stream",
     "text": [
      "{'name': 'Binod Suman', 'country': 'IN'}\n",
      "{'name': 'Binod Suman', 'country': 'IN'}\n",
      "{'name': 'Bill Gates', 'country': 'US'}\n",
      "{'name': 'Steve Jobs', 'country': 'US'}\n",
      "{'name': 'Narayan Murthy', 'country': 'IN'}\n",
      "{'name': 'Azim Premji', 'country': 'IN'}\n",
      "{'name': 'Nandan Nilekani', 'country': 'IN'}\n",
      "{'name': 'sundar pichai', 'country': 'IN'}\n"
     ]
    }
   ],
   "source": [
    "\n",
    "# Show only name and country details\n",
    "for student in collection.find({},{\"_id\": 0,\"name\": 1,\"country\": 1}):\n",
    "  print(student)"
   ]
  },
  {
   "cell_type": "code",
   "execution_count": 125,
   "metadata": {},
   "outputs": [
    {
     "name": "stdout",
     "output_type": "stream",
     "text": [
      "{'_id': ObjectId('5fd78774276752326c799776'), 'id': 1, 'name': 'Binod Suman', 'country': 'IN'}\n",
      "{'_id': ObjectId('5fd787ed276752326c799777'), 'id': 1, 'name': 'Binod Suman', 'country': 'IN'}\n",
      "{'_id': ObjectId('5fd787ed276752326c79977a'), 'id': 4, 'name': 'Narayan Murthy', 'country': 'IN'}\n",
      "{'_id': ObjectId('5fd787ed276752326c79977b'), 'id': 5, 'name': 'Azim Premji', 'country': 'IN'}\n",
      "{'_id': ObjectId('5fd787ed276752326c79977c'), 'id': 6, 'name': 'Nandan Nilekani', 'country': 'IN'}\n",
      "{'_id': ObjectId('5fd787ed276752326c79977d'), 'id': 7, 'name': 'sundar pichai', 'country': 'IN'}\n"
     ]
    }
   ],
   "source": [
    "# Get all record country is IN\n",
    "for student in collection.find({\"country\":\"IN\"}):\n",
    "  print(student)"
   ]
  },
  {
   "cell_type": "code",
   "execution_count": 126,
   "metadata": {},
   "outputs": [
    {
     "name": "stdout",
     "output_type": "stream",
     "text": [
      "{'_id': ObjectId('5fd787ed276752326c799779'), 'id': 3, 'name': 'Steve Jobs', 'country': 'US'}\n",
      "{'_id': ObjectId('5fd787ed276752326c79977a'), 'id': 4, 'name': 'Narayan Murthy', 'country': 'IN'}\n",
      "{'_id': ObjectId('5fd787ed276752326c79977b'), 'id': 5, 'name': 'Azim Premji', 'country': 'IN'}\n",
      "{'_id': ObjectId('5fd787ed276752326c79977c'), 'id': 6, 'name': 'Nandan Nilekani', 'country': 'IN'}\n",
      "{'_id': ObjectId('5fd787ed276752326c79977d'), 'id': 7, 'name': 'sundar pichai', 'country': 'IN'}\n"
     ]
    }
   ],
   "source": [
    "# Get all record id is more than 2\n",
    "for student in collection.find({\"id\":{\"$gt\": 2}}):\n",
    "  print(student)"
   ]
  },
  {
   "cell_type": "code",
   "execution_count": 127,
   "metadata": {},
   "outputs": [
    {
     "name": "stdout",
     "output_type": "stream",
     "text": [
      "{'_id': ObjectId('5fd78774276752326c799776'), 'id': 1, 'name': 'Binod Suman', 'country': 'IN'}\n",
      "{'_id': ObjectId('5fd787ed276752326c799777'), 'id': 1, 'name': 'Binod Suman', 'country': 'IN'}\n",
      "{'_id': ObjectId('5fd787ed276752326c799778'), 'id': 2, 'name': 'Bill Gates', 'country': 'US'}\n"
     ]
    }
   ],
   "source": [
    "# Get all record name start with \"B\"\n",
    "for student in collection.find({\"name\":{\"$regex\": \"^B\"}}):\n",
    "  print(student)"
   ]
  },
  {
   "cell_type": "code",
   "execution_count": 128,
   "metadata": {},
   "outputs": [
    {
     "name": "stdout",
     "output_type": "stream",
     "text": [
      "{'_id': ObjectId('5fd787ed276752326c79977b'), 'id': 5, 'name': 'Azim Premji', 'country': 'IN'}\n",
      "{'_id': ObjectId('5fd787ed276752326c799778'), 'id': 2, 'name': 'Bill Gates', 'country': 'US'}\n",
      "{'_id': ObjectId('5fd78774276752326c799776'), 'id': 1, 'name': 'Binod Suman', 'country': 'IN'}\n",
      "{'_id': ObjectId('5fd787ed276752326c799777'), 'id': 1, 'name': 'Binod Suman', 'country': 'IN'}\n",
      "{'_id': ObjectId('5fd787ed276752326c79977c'), 'id': 6, 'name': 'Nandan Nilekani', 'country': 'IN'}\n",
      "{'_id': ObjectId('5fd787ed276752326c79977a'), 'id': 4, 'name': 'Narayan Murthy', 'country': 'IN'}\n",
      "{'_id': ObjectId('5fd787ed276752326c799779'), 'id': 3, 'name': 'Steve Jobs', 'country': 'US'}\n",
      "{'_id': ObjectId('5fd787ed276752326c79977d'), 'id': 7, 'name': 'sundar pichai', 'country': 'IN'}\n"
     ]
    }
   ],
   "source": [
    "# Sort on name field\n",
    "# Display all records\n",
    "for student in collection.find().sort(\"name\"):\n",
    "  print(student)"
   ]
  },
  {
   "cell_type": "code",
   "execution_count": 130,
   "metadata": {},
   "outputs": [
    {
     "name": "stdout",
     "output_type": "stream",
     "text": [
      "6 documents updated.\n"
     ]
    }
   ],
   "source": [
    "#Update Many\n",
    "myquery = { \"country\": { \"$regex\": \"^IN\" } }\n",
    "newvalues = { \"$set\": { \"country\": \"IND\" } }\n",
    "\n",
    "result = collection.update_many(myquery, newvalues)\n",
    "\n",
    "print(result.modified_count, \"documents updated.\")"
   ]
  },
  {
   "cell_type": "code",
   "execution_count": 131,
   "metadata": {},
   "outputs": [
    {
     "name": "stdout",
     "output_type": "stream",
     "text": [
      "{'_id': ObjectId('5fd787ed276752326c79977b'), 'id': 5, 'name': 'Azim Premji', 'country': 'IND'}\n",
      "{'_id': ObjectId('5fd787ed276752326c799778'), 'id': 2, 'name': 'Bill Gates', 'country': 'US'}\n",
      "{'_id': ObjectId('5fd78774276752326c799776'), 'id': 1, 'name': 'Binod Suman', 'country': 'IND'}\n",
      "{'_id': ObjectId('5fd787ed276752326c799777'), 'id': 1, 'name': 'Binod Suman', 'country': 'IND'}\n",
      "{'_id': ObjectId('5fd787ed276752326c79977c'), 'id': 6, 'name': 'Nandan Nilekani', 'country': 'IND'}\n",
      "{'_id': ObjectId('5fd787ed276752326c79977a'), 'id': 4, 'name': 'Narayan Murthy', 'country': 'IND'}\n",
      "{'_id': ObjectId('5fd787ed276752326c799779'), 'id': 3, 'name': 'Steve Jobs', 'country': 'US'}\n",
      "{'_id': ObjectId('5fd787ed276752326c79977d'), 'id': 7, 'name': 'sundar pichai', 'country': 'IND'}\n"
     ]
    }
   ],
   "source": [
    "for student in collection.find().sort(\"name\"):\n",
    "  print(student)"
   ]
  },
  {
   "cell_type": "code",
   "execution_count": null,
   "metadata": {},
   "outputs": [],
   "source": []
  }
 ],
 "metadata": {
  "kernelspec": {
   "display_name": "Python 3",
   "language": "python",
   "name": "python3"
  },
  "language_info": {
   "codemirror_mode": {
    "name": "ipython",
    "version": 3
   },
   "file_extension": ".py",
   "mimetype": "text/x-python",
   "name": "python",
   "nbconvert_exporter": "python",
   "pygments_lexer": "ipython3",
   "version": "3.7.6"
  }
 },
 "nbformat": 4,
 "nbformat_minor": 2
}
